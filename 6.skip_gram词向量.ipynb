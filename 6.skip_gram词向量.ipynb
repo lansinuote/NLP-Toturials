{
 "cells": [
  {
   "cell_type": "code",
   "execution_count": 1,
   "id": "47020873",
   "metadata": {},
   "outputs": [],
   "source": [
    "docs = [\n",
    "    #数字\n",
    "    ['5', '2', '4', '8', '6', '2', '3', '6', '4'],\n",
    "    ['4', '8', '5', '6', '9', '5', '5', '6'],\n",
    "    ['1', '1', '5', '2', '3', '3', '8'],\n",
    "    ['3', '6', '9', '6', '8', '7', '4', '6', '3'],\n",
    "    ['8', '9', '9', '6', '1', '4', '3', '4'],\n",
    "    ['1', '0', '2', '0', '2', '1', '3', '3', '3', '3', '3'],\n",
    "    ['9', '3', '3', '0', '1', '4', '7', '8'],\n",
    "    ['9', '9', '8', '5', '6', '7', '1', '2', '3', '0', '1', '0'],\n",
    "\n",
    "    #字母中夹杂了一些数字\n",
    "    ['a', 't', 'g', 'q', 'e', 'h', '9', 'u', 'f'],\n",
    "    ['e', 'q', 'y', 'u', 'o', 'i', 'p', 's'],\n",
    "    ['q', 'o', '9', 'p', 'l', 'k', 'j', 'o', 'k', 'k', 'o', 'p'],\n",
    "    ['h', 'g', 'y', 'i', 'u', 't', 't', 'a', 'e', 'q'],\n",
    "    ['i', 'k', 'd', 'q', 'r', 'e', '9', 'e', 'a', 'd'],\n",
    "    ['o', 'p', 'd', 'g', '9', 's', 'a', 'f', 'g', 'a'],\n",
    "    ['i', 'u', 'y', 'g', 'h', 'k', 'l', 'a', 's', 'w'],\n",
    "    ['o', 'l', 'u', 'y', 'a', 'o', 'g', 'f', 's'],\n",
    "    ['o', 'p', 'i', 'u', 'y', 'g', 'd', 'a', 's', 'j', 'd', 'l'],\n",
    "    ['u', 'k', 'i', 'l', 'o', '9', 'l', 'j', 's'],\n",
    "    ['y', 'g', 'i', 's', 'h', 'k', 'j', 'l', 'f', 'r', 'f'],\n",
    "    ['i', 'o', 'h', '9', 'n', '9', 'd', '9', 'f', 'a', '9'],\n",
    "]"
   ]
  },
  {
   "cell_type": "code",
   "execution_count": 2,
   "id": "2fe303ff",
   "metadata": {},
   "outputs": [
    {
     "data": {
      "text/plain": [
       "(9, 30)"
      ]
     },
     "execution_count": 2,
     "metadata": {},
     "output_type": "execute_result"
    }
   ],
   "source": [
    "#生成字典\n",
    "zidian = {}\n",
    "for doc in docs:\n",
    "    for word in doc:\n",
    "        if word not in zidian:\n",
    "            zidian[word] = len(zidian)\n",
    "\n",
    "zidian['0'], len(zidian)"
   ]
  },
  {
   "cell_type": "code",
   "execution_count": 3,
   "id": "bcebc1c2",
   "metadata": {},
   "outputs": [
    {
     "data": {
      "text/plain": [
       "652"
      ]
     },
     "execution_count": 3,
     "metadata": {},
     "output_type": "execute_result"
    }
   ],
   "source": [
    "import torch\n",
    "from torch.utils.data import Dataset, DataLoader\n",
    "import torch.nn as nn\n",
    "\n",
    "\n",
    "#定义数据\n",
    "class DocDataset(Dataset):\n",
    "    def __init__(self):\n",
    "        xs = []\n",
    "        ys = []\n",
    "\n",
    "        for doc in docs:\n",
    "\n",
    "            #遍历每个句子的每个词,作为x\n",
    "            for i in range(len(doc)):\n",
    "\n",
    "                #遍历当前字的偏移,作为y\n",
    "                for j in [-2, -1, 1, 2]:\n",
    "\n",
    "                    #如果出界了就跳过\n",
    "                    if i + j < 0 or i + j >= len(doc):\n",
    "                        continue\n",
    "\n",
    "                    xs.append(zidian[doc[i]])\n",
    "                    ys.append(zidian[doc[i + j]])\n",
    "\n",
    "        self.xs = torch.LongTensor(xs)\n",
    "        self.ys = torch.LongTensor(ys)\n",
    "\n",
    "    def __getitem__(self, i):\n",
    "        return self.xs[i], self.ys[i]\n",
    "\n",
    "    def __len__(self):\n",
    "        return len(self.xs)\n",
    "\n",
    "\n",
    "len(DocDataset())"
   ]
  },
  {
   "cell_type": "code",
   "execution_count": 4,
   "id": "25f1a6cd",
   "metadata": {},
   "outputs": [
    {
     "data": {
      "text/plain": [
       "(tensor([19, 17,  6, 14]),\n",
       " torch.Size([4]),\n",
       " tensor([ 6,  6, 13,  6]),\n",
       " torch.Size([4]))"
      ]
     },
     "execution_count": 4,
     "metadata": {},
     "output_type": "execute_result"
    }
   ],
   "source": [
    "#数据加载器\n",
    "def get_dataloader():\n",
    "    dataloader = DataLoader(dataset=DocDataset(),\n",
    "                            batch_size=4,\n",
    "                            shuffle=True,\n",
    "                            drop_last=True)\n",
    "    return dataloader\n",
    "\n",
    "\n",
    "for i, data in enumerate(get_dataloader()):\n",
    "    sample = data\n",
    "    break\n",
    "\n",
    "sample[0], sample[0].shape, sample[1], sample[1].shape"
   ]
  },
  {
   "cell_type": "code",
   "execution_count": 5,
   "id": "5e258165",
   "metadata": {
    "scrolled": false
   },
   "outputs": [
    {
     "data": {
      "text/plain": [
       "(tensor([[-0.5162,  0.3245,  0.3053,  0.2911, -0.3500,  0.5463, -0.5317, -0.5120,\n",
       "           0.3480,  0.4718, -0.5056,  0.5381,  0.3380,  0.3746, -0.0517, -0.5607,\n",
       "          -0.0462,  0.3976, -0.5185, -0.5205,  0.2119,  0.3325,  0.7214, -0.5070,\n",
       "          -0.5151,  0.3951, -0.1502, -0.5719, -0.7020,  0.1182],\n",
       "         [-0.6179,  0.3763,  0.3163,  0.3189, -0.3094,  0.6617, -0.4516, -0.6138,\n",
       "           0.2164,  0.5931, -0.4071,  0.5344,  0.3486,  0.3853, -0.1799, -0.5097,\n",
       "          -0.0174,  0.3685, -0.5632, -0.6166,  0.2338,  0.4011,  0.6183, -0.4409,\n",
       "          -0.6470,  0.4314, -0.0168, -0.4587, -0.6129,  0.1485]],\n",
       "        grad_fn=<SliceBackward>), torch.Size([4, 30]))"
      ]
     },
     "execution_count": 5,
     "metadata": {},
     "output_type": "execute_result"
    }
   ],
   "source": [
    "class SkipGram(torch.nn.Module):\n",
    "    def __init__(self):\n",
    "        super().__init__()\n",
    "\n",
    "        self.embed = torch.nn.Embedding(30, 2)\n",
    "        self.embed.weight.data.normal_(0,0.1)\n",
    "        \n",
    "        self.fc = torch.nn.Linear(2, 30)\n",
    "\n",
    "    def forward(self, x):\n",
    "\n",
    "        #[b] -> [b,2]\n",
    "        x = self.embed(x)\n",
    "\n",
    "        #[b,2] -> [b,30]\n",
    "        x = self.fc(x)\n",
    "\n",
    "        return x\n",
    "\n",
    "\n",
    "model = SkipGram()\n",
    "\n",
    "out = model(sample[0])\n",
    "\n",
    "out[:2], out.shape"
   ]
  },
  {
   "cell_type": "code",
   "execution_count": 6,
   "id": "4c12d416",
   "metadata": {
    "scrolled": false
   },
   "outputs": [
    {
     "name": "stdout",
     "output_type": "stream",
     "text": [
      "0 tensor(3.3525, grad_fn=<NllLossBackward>)\n",
      "20 tensor(3.2004, grad_fn=<NllLossBackward>)\n",
      "40 tensor(2.5589, grad_fn=<NllLossBackward>)\n",
      "60 tensor(3.3490, grad_fn=<NllLossBackward>)\n",
      "80 tensor(2.5052, grad_fn=<NllLossBackward>)\n",
      "100 tensor(2.6275, grad_fn=<NllLossBackward>)\n",
      "120 tensor(2.9588, grad_fn=<NllLossBackward>)\n",
      "140 tensor(1.5526, grad_fn=<NllLossBackward>)\n",
      "160 tensor(2.6236, grad_fn=<NllLossBackward>)\n",
      "180 tensor(2.2506, grad_fn=<NllLossBackward>)\n"
     ]
    }
   ],
   "source": [
    "import random\n",
    "\n",
    "criteon = torch.nn.CrossEntropyLoss()\n",
    "optim = torch.optim.Adam(model.parameters(), lr=1e-2)\n",
    "\n",
    "model.train()\n",
    "for epoch in range(200):\n",
    "    for i, data in enumerate(get_dataloader()):\n",
    "        x, y = data\n",
    "        \n",
    "        optim.zero_grad()\n",
    "\n",
    "        #计算\n",
    "        #[b] -> [b,30]\n",
    "        out = model(x)\n",
    "\n",
    "        loss = criteon(out, y)\n",
    "        loss.backward()\n",
    "        optim.step()\n",
    "\n",
    "    if epoch % 20 == 0:\n",
    "        print(epoch, loss)"
   ]
  },
  {
   "cell_type": "code",
   "execution_count": 8,
   "id": "3718d127",
   "metadata": {},
   "outputs": [
    {
     "data": {
      "text/plain": [
       "<matplotlib.collections.PathCollection at 0x7f56cd0397f0>"
      ]
     },
     "execution_count": 8,
     "metadata": {},
     "output_type": "execute_result"
    },
    {
     "data": {
      "image/png": "[encoded data removed]",
      "text/plain": [
       "<Figure size 432x288 with 1 Axes>"
      ]
     },
     "metadata": {
      "needs_background": "light"
     },
     "output_type": "display_data"
    }
   ],
   "source": [
    "colors = []\n",
    "idxs = []\n",
    "for word, idx in zidian.items():\n",
    "    idxs.append(idx)\n",
    "    if word in '1234567890':\n",
    "        colors.append('red')\n",
    "        continue\n",
    "    colors.append('blue')\n",
    "\n",
    "embed = model.embed(torch.LongTensor(idxs))\n",
    "embed = embed.detach().numpy()\n",
    "\n",
    "from matplotlib import pyplot as plt\n",
    "\n",
    "plt.scatter(embed[:, 0], embed[:, 1], c=colors)"
   ]
  }
 ],
 "metadata": {
  "kernelspec": {
   "display_name": "Python 3",
   "language": "python",
   "name": "python3"
  },
  "language_info": {
   "codemirror_mode": {
    "name": "ipython",
    "version": 3
   },
   "file_extension": ".py",
   "mimetype": "text/x-python",
   "name": "python",
   "nbconvert_exporter": "python",
   "pygments_lexer": "ipython3",
   "version": "3.6.13"
  }
 },
 "nbformat": 4,
 "nbformat_minor": 5
}
