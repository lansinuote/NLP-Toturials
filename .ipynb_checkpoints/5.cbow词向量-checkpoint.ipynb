{
 "cells": [
  {
   "cell_type": "code",
   "execution_count": 1,
   "id": "47020873",
   "metadata": {},
   "outputs": [],
   "source": [
    "docs = [\n",
    "    #数字\n",
    "    ['5', '2', '4', '8', '6', '2', '3', '6', '4'],\n",
    "    ['4', '8', '5', '6', '9', '5', '5', '6'],\n",
    "    ['1', '1', '5', '2', '3', '3', '8'],\n",
    "    ['3', '6', '9', '6', '8', '7', '4', '6', '3'],\n",
    "    ['8', '9', '9', '6', '1', '4', '3', '4'],\n",
    "    ['1', '0', '2', '0', '2', '1', '3', '3', '3', '3', '3'],\n",
    "    ['9', '3', '3', '0', '1', '4', '7', '8'],\n",
    "    ['9', '9', '8', '5', '6', '7', '1', '2', '3', '0', '1', '0'],\n",
    "\n",
    "    #字母中夹杂了一些数字\n",
    "    ['a', 't', 'g', 'q', 'e', 'h', '9', 'u', 'f'],\n",
    "    ['e', 'q', 'y', 'u', 'o', 'i', 'p', 's'],\n",
    "    ['q', 'o', '9', 'p', 'l', 'k', 'j', 'o', 'k', 'k', 'o', 'p'],\n",
    "    ['h', 'g', 'y', 'i', 'u', 't', 't', 'a', 'e', 'q'],\n",
    "    ['i', 'k', 'd', 'q', 'r', 'e', '9', 'e', 'a', 'd'],\n",
    "    ['o', 'p', 'd', 'g', '9', 's', 'a', 'f', 'g', 'a'],\n",
    "    ['i', 'u', 'y', 'g', 'h', 'k', 'l', 'a', 's', 'w'],\n",
    "    ['o', 'l', 'u', 'y', 'a', 'o', 'g', 'f', 's'],\n",
    "    ['o', 'p', 'i', 'u', 'y', 'g', 'd', 'a', 's', 'j', 'd', 'l'],\n",
    "    ['u', 'k', 'i', 'l', 'o', '9', 'l', 'j', 's'],\n",
    "    ['y', 'g', 'i', 's', 'h', 'k', 'j', 'l', 'f', 'r', 'f'],\n",
    "    ['i', 'o', 'h', '9', 'n', '9', 'd', '9', 'f', 'a', '9'],\n",
    "]"
   ]
  },
  {
   "cell_type": "code",
   "execution_count": 2,
   "id": "2fe303ff",
   "metadata": {},
   "outputs": [
    {
     "data": {
      "text/plain": [
       "(9, 30)"
      ]
     },
     "execution_count": 2,
     "metadata": {},
     "output_type": "execute_result"
    }
   ],
   "source": [
    "#生成字典\n",
    "zidian = {}\n",
    "for doc in docs:\n",
    "    for word in doc:\n",
    "        if word not in zidian:\n",
    "            zidian[word] = len(zidian)\n",
    "\n",
    "zidian['0'], len(zidian)"
   ]
  },
  {
   "cell_type": "code",
   "execution_count": 3,
   "id": "44f6507a",
   "metadata": {},
   "outputs": [
    {
     "data": {
      "text/plain": [
       "113"
      ]
     },
     "execution_count": 3,
     "metadata": {},
     "output_type": "execute_result"
    }
   ],
   "source": [
    "import torch\n",
    "from torch.utils.data import Dataset, DataLoader\n",
    "import torch.nn as nn\n",
    "\n",
    "\n",
    "#定义数据\n",
    "class DocDataset(Dataset):\n",
    "    def __init__(self):\n",
    "        xs = []\n",
    "        ys = []\n",
    "\n",
    "        for doc in docs:\n",
    "\n",
    "            #句子根据字典编码成数字\n",
    "            doc_encode = [zidian[word] for word in doc]\n",
    "\n",
    "            #每个句子从头遍历到倒数第5个字母\n",
    "            for i in range(0, len(doc) - 4):\n",
    "\n",
    "                #x是5个字母的前后各两个\n",
    "                xs.append([\n",
    "                    doc_encode[i + 0], doc_encode[i + 1], doc_encode[i + 3],\n",
    "                    doc_encode[i + 4]\n",
    "                ])\n",
    "\n",
    "                #y是5个字母中间的那个\n",
    "                ys.append(doc_encode[i + 2])\n",
    "\n",
    "        self.xs = torch.LongTensor(xs)\n",
    "        self.ys = torch.LongTensor(ys)\n",
    "\n",
    "    def __getitem__(self, i):\n",
    "        return self.xs[i], self.ys[i]\n",
    "\n",
    "    def __len__(self):\n",
    "        return len(self.xs)\n",
    "\n",
    "\n",
    "len(DocDataset())"
   ]
  },
  {
   "cell_type": "code",
   "execution_count": 4,
   "id": "69a1a714",
   "metadata": {},
   "outputs": [
    {
     "data": {
      "text/plain": [
       "(tensor([[19, 21, 16, 18],\n",
       "         [13, 18, 19, 20],\n",
       "         [22, 10, 12, 10],\n",
       "         [14, 15, 16, 17]]),\n",
       " torch.Size([4, 4]),\n",
       " tensor([20, 16, 17,  6]),\n",
       " torch.Size([4]))"
      ]
     },
     "execution_count": 4,
     "metadata": {},
     "output_type": "execute_result"
    }
   ],
   "source": [
    "#数据加载器\n",
    "def get_dataloader():\n",
    "    dataloader = DataLoader(dataset=DocDataset(),\n",
    "                            batch_size=4,\n",
    "                            shuffle=True,\n",
    "                            drop_last=True)\n",
    "    return dataloader\n",
    "\n",
    "\n",
    "for i, data in enumerate(get_dataloader()):\n",
    "    sample = data\n",
    "    break\n",
    "\n",
    "sample[0], sample[0].shape, sample[1], sample[1].shape"
   ]
  },
  {
   "cell_type": "code",
   "execution_count": 5,
   "id": "5e258165",
   "metadata": {
    "scrolled": false
   },
   "outputs": [
    {
     "data": {
      "text/plain": [
       "(tensor([[ 6.5888e-01,  4.7118e-01,  3.9229e-01, -1.9138e-01,  7.6326e-03,\n",
       "          -3.5269e-01, -4.4513e-01,  3.8955e-02,  5.0908e-01,  5.1117e-01,\n",
       "           5.5449e-01,  6.1092e-01,  6.8060e-01,  5.9301e-01,  4.1114e-02,\n",
       "           5.6111e-01, -2.9875e-01,  6.0963e-01,  7.2298e-02,  3.1759e-02,\n",
       "           3.4617e-01, -2.6114e-01,  3.6275e-01, -5.3237e-01,  4.9234e-01,\n",
       "          -2.0311e-01, -5.6541e-02, -2.0027e-01, -1.5255e-01, -5.4809e-01],\n",
       "         [ 6.5247e-01,  4.8950e-01,  3.7930e-01, -1.9945e-01,  1.2645e-02,\n",
       "          -3.3973e-01, -4.3826e-01,  5.5761e-02,  4.9318e-01,  5.0533e-01,\n",
       "           5.6777e-01,  6.0805e-01,  6.7974e-01,  5.7527e-01,  5.2539e-02,\n",
       "           5.6405e-01, -2.9518e-01,  6.3456e-01,  5.6624e-02,  4.9485e-02,\n",
       "           3.5044e-01, -2.8184e-01,  3.5403e-01, -5.5476e-01,  5.0248e-01,\n",
       "          -1.9005e-01, -3.5914e-02, -2.0255e-01, -1.6804e-01, -5.6836e-01],\n",
       "         [ 6.6266e-01,  4.8247e-01,  4.2279e-01, -2.4316e-01, -1.2265e-02,\n",
       "          -3.3076e-01, -3.9279e-01,  3.2513e-02,  4.7192e-01,  4.7845e-01,\n",
       "           6.0295e-01,  6.0709e-01,  6.7979e-01,  5.6652e-01,  3.8781e-02,\n",
       "           5.2995e-01, -2.5546e-01,  5.9928e-01,  9.1362e-02,  3.8809e-02,\n",
       "           3.3528e-01, -2.4955e-01,  3.5951e-01, -5.1847e-01,  4.7969e-01,\n",
       "          -2.3112e-01, -7.2104e-02, -2.1231e-01, -1.5240e-01, -5.5793e-01],\n",
       "         [ 6.4164e-01,  5.0985e-01,  3.4641e-01, -1.8595e-01,  2.9236e-02,\n",
       "          -3.3201e-01, -4.5370e-01,  8.2480e-02,  4.8863e-01,  5.1281e-01,\n",
       "           5.6321e-01,  6.0585e-01,  6.7892e-01,  5.6302e-01,  6.9724e-02,\n",
       "           5.8314e-01, -3.1094e-01,  6.7459e-01,  2.5441e-02,  7.1028e-02,\n",
       "           3.6166e-01, -3.1652e-01,  3.4332e-01, -5.9291e-01,  5.2281e-01,\n",
       "          -1.5825e-01,  5.5336e-04, -1.9997e-01, -1.8989e-01, -5.9215e-01]],\n",
       "        grad_fn=<AddmmBackward>), torch.Size([4, 30]))"
      ]
     },
     "execution_count": 5,
     "metadata": {},
     "output_type": "execute_result"
    }
   ],
   "source": [
    "class CBOW(torch.nn.Module):\n",
    "    def __init__(self):\n",
    "        super().__init__()\n",
    "\n",
    "        self.embed = torch.nn.Embedding(30, 2)\n",
    "        self.embed.weight.data.normal_(0, 0.1)\n",
    "\n",
    "        self.fc = torch.nn.Linear(2, 30)\n",
    "\n",
    "    def forward(self, x):\n",
    "\n",
    "        #[b,4] -> [b,4,2]\n",
    "        x = self.embed(x)\n",
    "\n",
    "        #[b,4,2] -> [b,2]\n",
    "        x = torch.mean(x, dim=1)\n",
    "\n",
    "        #[b,2] -> [b,30]\n",
    "        x = self.fc(x)\n",
    "\n",
    "        return x\n",
    "\n",
    "\n",
    "model = CBOW()\n",
    "\n",
    "out = model(sample[0])\n",
    "\n",
    "out, out.shape"
   ]
  },
  {
   "cell_type": "code",
   "execution_count": 6,
   "id": "4c12d416",
   "metadata": {
    "scrolled": false
   },
   "outputs": [
    {
     "name": "stdout",
     "output_type": "stream",
     "text": [
      "0 tensor(3.4605, grad_fn=<NllLossBackward>)\n",
      "200 tensor(3.1750, grad_fn=<NllLossBackward>)\n",
      "400 tensor(3.4084, grad_fn=<NllLossBackward>)\n",
      "600 tensor(3.3346, grad_fn=<NllLossBackward>)\n",
      "800 tensor(2.3855, grad_fn=<NllLossBackward>)\n"
     ]
    }
   ],
   "source": [
    "criteon = torch.nn.CrossEntropyLoss()\n",
    "optim = torch.optim.SGD(model.parameters(), lr=1e-2)\n",
    "\n",
    "model.train()\n",
    "for epoch in range(1000):\n",
    "    for i, data in enumerate(get_dataloader()):\n",
    "        x, y = data\n",
    "        optim.zero_grad()\n",
    "\n",
    "        #计算\n",
    "        #[b,4] -> [b,30]\n",
    "        out = model(x)\n",
    "\n",
    "        loss = criteon(out, y)\n",
    "        loss.backward()\n",
    "        optim.step()\n",
    "\n",
    "    if epoch % 200 == 0:\n",
    "        print(epoch, loss)"
   ]
  },
  {
   "cell_type": "code",
   "execution_count": 8,
   "id": "3718d127",
   "metadata": {},
   "outputs": [
    {
     "data": {
      "image/png": "[encoded data removed]",
      "text/plain": [
       "<Figure size 432x288 with 1 Axes>"
      ]
     },
     "metadata": {
      "needs_background": "light"
     },
     "output_type": "display_data"
    }
   ],
   "source": [
    "colors = []\n",
    "idxs = []\n",
    "for word, idx in zidian.items():\n",
    "    idxs.append(idx)\n",
    "    if word in '1234567890':\n",
    "        colors.append('red')\n",
    "        continue\n",
    "    colors.append('blue')\n",
    "\n",
    "#[30] -> [30,2]\n",
    "embed = model.embed(torch.LongTensor(idxs)).detach().numpy()\n",
    "\n",
    "from matplotlib import pyplot as plt\n",
    "\n",
    "plt.scatter(embed[:, 0], embed[:, 1], c=colors)\n",
    "plt.show()"
   ]
  }
 ],
 "metadata": {
  "kernelspec": {
   "display_name": "Python 3",
   "language": "python",
   "name": "python3"
  },
  "language_info": {
   "codemirror_mode": {
    "name": "ipython",
    "version": 3
   },
   "file_extension": ".py",
   "mimetype": "text/x-python",
   "name": "python",
   "nbconvert_exporter": "python",
   "pygments_lexer": "ipython3",
   "version": "3.6.13"
  }
 },
 "nbformat": 4,
 "nbformat_minor": 5
}
